{
 "cells": [
  {
   "cell_type": "code",
   "execution_count": 1,
   "id": "b2d45e19-c05c-498f-b5e9-1928e15aecb5",
   "metadata": {},
   "outputs": [
    {
     "name": "stdout",
     "output_type": "stream",
     "text": [
      "Text: I love this product! It's amazing.\n",
      "Sentiment: Positive\n",
      "\n",
      "Text: This is the worst experience ever.\n",
      "Sentiment: Negative\n",
      "\n",
      "Text: It's okay, nothing special.\n",
      "Sentiment: Neutral\n",
      "\n",
      "Text: Absolutely fantastic — exceeded my expectations!\n",
      "Sentiment: Positive\n",
      "\n",
      "Text: Not bad, but could be better.\n",
      "Sentiment: Negative\n",
      "\n"
     ]
    }
   ],
   "source": [
    "# Simple keyword-based sentiment analysis\n",
    "\n",
    "positive_words = [\"good\", \"great\", \"amazing\", \"love\", \"excellent\", \"happy\", \"fantastic\", \"wonderful\", \"best\"]\n",
    "negative_words = [\"bad\", \"terrible\", \"awful\", \"worst\", \"hate\", \"poor\", \"sad\", \"horrible\", \"disappointed\"]\n",
    "\n",
    "texts = [\n",
    "    \"I love this product! It's amazing.\",\n",
    "    \"This is the worst experience ever.\",\n",
    "    \"It's okay, nothing special.\",\n",
    "    \"Absolutely fantastic — exceeded my expectations!\",\n",
    "    \"Not bad, but could be better.\"\n",
    "]\n",
    "\n",
    "def simple_sentiment(text):\n",
    "    text_lower = text.lower()\n",
    "    pos_count = sum(word in text_lower for word in positive_words)\n",
    "    neg_count = sum(word in text_lower for word in negative_words)\n",
    "\n",
    "    if pos_count > neg_count:\n",
    "        return \"Positive\"\n",
    "    elif neg_count > pos_count:\n",
    "        return \"Negative\"\n",
    "    else:\n",
    "        return \"Neutral\"\n",
    "\n",
    "# Run sentiment analysis\n",
    "for t in texts:\n",
    "    sentiment = simple_sentiment(t)\n",
    "    print(f\"Text: {t}\\nSentiment: {sentiment}\\n\")\n",
    "\n"
   ]
  },
  {
   "cell_type": "code",
   "execution_count": 2,
   "id": "acf79d27-38c9-4e77-88db-33756e70fa2b",
   "metadata": {},
   "outputs": [
    {
     "name": "stdout",
     "output_type": "stream",
     "text": [
      "['Joy']\n",
      "['Sadness', 'Anger']\n"
     ]
    }
   ],
   "source": [
    "# Simple emotion detection example\n",
    "emotion_keywords = {\n",
    "    \"happy\": \"Joy\",\n",
    "    \"love\": \"Joy\",\n",
    "    \"hate\": \"Anger\",\n",
    "    \"angry\": \"Anger\",\n",
    "    \"sad\": \"Sadness\"\n",
    "}\n",
    "\n",
    "def detect_emotions(text):\n",
    "    found_emotions = [emotion_keywords[word] for word in text.lower().split() if word in emotion_keywords]\n",
    "    return list(set(found_emotions)) if found_emotions else [\"Neutral\"]\n",
    "\n",
    "print(detect_emotions(\"I love this!\"))\n",
    "print(detect_emotions(\"I am sad and angry about this.\"))\n"
   ]
  },
  {
   "cell_type": "code",
   "execution_count": 4,
   "id": "077321df-9251-446c-914c-bed77a21b7a4",
   "metadata": {},
   "outputs": [
    {
     "name": "stdout",
     "output_type": "stream",
     "text": [
      "                                  review sentiment\n",
      "0       Fast delivery and great quality!  Positive\n",
      "1  Terrible service. Will not buy again.  Negative\n",
      "2      Average product, nothing amazing.  Positive\n"
     ]
    }
   ],
   "source": [
    "import pandas as pd\n",
    "\n",
    "# Small positive and negative word sets\n",
    "positive_words = {\"good\", \"great\", \"excellent\", \"happy\", \"amazing\", \"fast\", \"love\", \"quality\"}\n",
    "negative_words = {\"bad\", \"terrible\", \"worst\", \"slow\", \"hate\", \"poor\", \"awful\", \"problem\"}\n",
    "\n",
    "# Simulated small dataset\n",
    "df = pd.DataFrame({\n",
    "    \"review\": [\n",
    "        \"Fast delivery and great quality!\",\n",
    "        \"Terrible service. Will not buy again.\",\n",
    "        \"Average product, nothing amazing.\"\n",
    "    ]\n",
    "})\n",
    "\n",
    "def simple_sentiment(text):\n",
    "    text_lower = text.lower()\n",
    "    pos_count = sum(word in text_lower for word in positive_words)\n",
    "    neg_count = sum(word in text_lower for word in negative_words)\n",
    "    \n",
    "    if pos_count > neg_count:\n",
    "        return \"Positive\"\n",
    "    elif neg_count > pos_count:\n",
    "        return \"Negative\"\n",
    "    else:\n",
    "        return \"Neutral\"\n",
    "\n",
    "# Apply the function\n",
    "df[\"sentiment\"] = df[\"review\"].apply(simple_sentiment)\n",
    "\n",
    "print(df)\n"
   ]
  },
  {
   "cell_type": "code",
   "execution_count": 7,
   "id": "dbfe0758-68c0-4f59-988f-dd0307181727",
   "metadata": {},
   "outputs": [
    {
     "name": "stderr",
     "output_type": "stream",
     "text": [
      "C:\\Users\\hp\\AppData\\Local\\Temp\\ipykernel_19708\\1611790737.py:4: FutureWarning: \n",
      "\n",
      "Passing `palette` without assigning `hue` is deprecated and will be removed in v0.14.0. Assign the `x` variable to `hue` and set `legend=False` for the same effect.\n",
      "\n",
      "  sns.countplot(x='sentiment', data=df, palette='Set2')\n"
     ]
    },
    {
     "data": {
      "image/png": "[encoded data removed]",
      "text/plain": [
       "<Figure size 640x480 with 1 Axes>"
      ]
     },
     "metadata": {},
     "output_type": "display_data"
    }
   ],
   "source": [
    "import matplotlib.pyplot as plt\n",
    "import seaborn as sns\n",
    "\n",
    "sns.countplot(x='sentiment', data=df, palette='Set2')\n",
    "plt.title('Sentiment Distribution')\n",
    "plt.show()"
   ]
  },
  {
   "cell_type": "code",
   "execution_count": null,
   "id": "c85baf83-a0a9-4d61-8422-ac1c884fc78a",
   "metadata": {},
   "outputs": [],
   "source": [
    "# Use Results for Business Insights\n",
    "Marketing: Target campaigns for positive reviewers.\n",
    "Product Development: Address negative feedback trends.\n",
    "Social Insights: Track public mood over time for brands or policies.\n",
    "\n"
   ]
  }
 ],
 "metadata": {
  "kernelspec": {
   "display_name": "Python 3 (ipykernel)",
   "language": "python",
   "name": "python3"
  },
  "language_info": {
   "codemirror_mode": {
    "name": "ipython",
    "version": 3
   },
   "file_extension": ".py",
   "mimetype": "text/x-python",
   "name": "python",
   "nbconvert_exporter": "python",
   "pygments_lexer": "ipython3",
   "version": "3.12.7"
  }
 },
 "nbformat": 4,
 "nbformat_minor": 5
}
